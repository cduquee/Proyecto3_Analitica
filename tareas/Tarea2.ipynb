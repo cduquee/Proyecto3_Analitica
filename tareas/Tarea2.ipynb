{
 "cells": [
  {
   "cell_type": "markdown",
   "metadata": {},
   "source": [
    "<style>\n",
    "    h1 {\n",
    "    font-family: 'Segoe UI Semibold';\n",
    "    font-size: 40px;\n",
    "    text-align: center;\n",
    "  }\n",
    "</style>\n",
    "\n",
    "# Proyecto 3: Saber 11"
   ]
  },
  {
   "cell_type": "markdown",
   "metadata": {
    "vscode": {
     "languageId": "html"
    }
   },
   "source": [
    "<style>\n",
    "  .image {\n",
    "            overflow: hidden;\n",
    "            width: 100%;\n",
    "            border-radius: 20px;\n",
    "            object-fit: cover;\n",
    "        }\n",
    "  .container {\n",
    "            width: 100%;\n",
    "            height: 300px;\n",
    "        }\n",
    "\n",
    "</style>\n",
    "\n",
    "<div class=\"container\">\n",
    "    <img src=\"../img/image.png\" class=\"image\"/>\n",
    "</div>"
   ]
  },
  {
   "cell_type": "markdown",
   "metadata": {},
   "source": [
    "<style>\n",
    "  p {\n",
    "    font-family: 'Segoe UI Light';\n",
    "    font-size: 20px;\n",
    "    text-align: center;\n",
    "  }\n",
    "</style>\n",
    "\n",
    "<div style=\"text-align: center;\">\n",
    "  Analítica Computacional para la Toma de Decisiones IIND-4130 <br>\n",
    "  Universidad de los Andes &copy; 2024 <br>\n",
    "  19 de noviembre de 2024 <br><br>\n",
    "  <strong>GRUPO 7:</strong> <br>\n",
    "  Laura Calderón - 202122045 <br>\n",
    "  Camilo Duque - 202024289<br>\n",
    "  Daniela Espinosa - 202022615<br>\n",
    "</div>\n"
   ]
  },
  {
   "cell_type": "markdown",
   "metadata": {},
   "source": [
    "## **Tarea 2**\n",
    "Limpieza de Datos"
   ]
  },
  {
   "cell_type": "code",
   "execution_count": 1,
   "metadata": {},
   "outputs": [
    {
     "name": "stdout",
     "output_type": "stream",
     "text": [
      "Total de registros: 100049\n",
      "Total de columnas: 41\n",
      "\n",
      "Resumen de columnas:\n",
      "<class 'pandas.core.frame.DataFrame'>\n",
      "RangeIndex: 100049 entries, 0 to 100048\n",
      "Data columns (total 41 columns):\n",
      " #   Column                       Non-Null Count   Dtype  \n",
      "---  ------                       --------------   -----  \n",
      " 0   periodo                      100049 non-null  int64  \n",
      " 1   estu_tipodocumento           100049 non-null  object \n",
      " 2   cole_area_ubicacion          100049 non-null  object \n",
      " 3   cole_bilingue                91518 non-null   object \n",
      " 4   cole_calendario              100049 non-null  object \n",
      " 5   cole_caracter                99600 non-null   object \n",
      " 6   cole_codigo_icfes            100049 non-null  int64  \n",
      " 7   cole_genero                  100049 non-null  object \n",
      " 8   cole_jornada                 100049 non-null  object \n",
      " 9   cole_mcpio_ubicacion         100049 non-null  object \n",
      " 10  cole_naturaleza              100049 non-null  object \n",
      " 11  cole_nombre_establecimiento  100049 non-null  object \n",
      " 12  cole_nombre_sede             100049 non-null  object \n",
      " 13  cole_sede_principal          100049 non-null  object \n",
      " 14  estu_depto_presentacion      100049 non-null  object \n",
      " 15  estu_depto_reside            99987 non-null   object \n",
      " 16  estu_estadoinvestigacion     100049 non-null  object \n",
      " 17  estu_estudiante              100049 non-null  object \n",
      " 18  estu_fechanacimiento         100049 non-null  object \n",
      " 19  estu_genero                  99934 non-null   object \n",
      " 20  estu_mcpio_presentacion      100049 non-null  object \n",
      " 21  estu_mcpio_reside            99987 non-null   object \n",
      " 22  estu_nacionalidad            100049 non-null  object \n",
      " 23  estu_pais_reside             100049 non-null  object \n",
      " 24  estu_privado_libertad        100049 non-null  object \n",
      " 25  fami_cuartoshogar            98508 non-null   object \n",
      " 26  fami_educacionmadre          97667 non-null   object \n",
      " 27  fami_educacionpadre          97668 non-null   object \n",
      " 28  fami_estratovivienda         97407 non-null   object \n",
      " 29  fami_personashogar           98451 non-null   object \n",
      " 30  fami_tieneautomovil          98509 non-null   object \n",
      " 31  fami_tienecomputador         98560 non-null   object \n",
      " 32  fami_tieneinternet           97585 non-null   object \n",
      " 33  fami_tienelavadora           98558 non-null   object \n",
      " 34  desemp_ingles                100047 non-null  object \n",
      " 35  punt_ingles                  100047 non-null  float64\n",
      " 36  punt_matematicas             100049 non-null  float64\n",
      " 37  punt_sociales_ciudadanas     100049 non-null  int64  \n",
      " 38  punt_c_naturales             100049 non-null  int64  \n",
      " 39  punt_lectura_critica         100049 non-null  int64  \n",
      " 40  punt_global                  100049 non-null  int64  \n",
      "dtypes: float64(2), int64(6), object(33)\n",
      "memory usage: 31.3+ MB\n",
      "None\n"
     ]
    }
   ],
   "source": [
    "import pandas as pd\n",
    "dta = pd.read_csv('/Users/lauracalderon/Desktop/Datos_Boyaca.csv')\n",
    "\n",
    "# Mostrar información básica del DataFrame\n",
    "print(f\"Total de registros: {dta.shape[0]}\")\n",
    "print(f\"Total de columnas: {dta.shape[1]}\")\n",
    "\n",
    "# Mostrar un resumen de las columnas\n",
    "print(\"\\nResumen de columnas:\")\n",
    "print(dta.info())\n"
   ]
  }
 ],
 "metadata": {
  "kernelspec": {
   "display_name": "Python 3",
   "language": "python",
   "name": "python3"
  },
  "language_info": {
   "codemirror_mode": {
    "name": "ipython",
    "version": 3
   },
   "file_extension": ".py",
   "mimetype": "text/x-python",
   "name": "python",
   "nbconvert_exporter": "python",
   "pygments_lexer": "ipython3",
   "version": "3.11.0"
  }
 },
 "nbformat": 4,
 "nbformat_minor": 2
}
