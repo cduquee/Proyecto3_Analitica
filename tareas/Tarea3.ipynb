{
 "cells": [
  {
   "cell_type": "markdown",
   "metadata": {},
   "source": [
    "<style>\n",
    "    h1 {\n",
    "    font-family: 'Segoe UI Semibold';\n",
    "    font-size: 40px;\n",
    "    text-align: center;\n",
    "  }\n",
    "</style>\n",
    "\n",
    "# Proyecto 3: Saber 11"
   ]
  },
  {
   "cell_type": "markdown",
   "metadata": {},
   "source": [
    "<style>\n",
    "  .image {\n",
    "            overflow: hidden;\n",
    "            width: 100%;\n",
    "            border-radius: 20px;\n",
    "            object-fit: cover;\n",
    "        }\n",
    "  .container {\n",
    "            width: 100%;\n",
    "            height: 400px;\n",
    "        }\n",
    "\n",
    "</style>\n",
    "\n",
    "<div class=\"container\">\n",
    "    <img src=\"..\\img\\bank-products.png\" class=\"image\"/>\n",
    "</div>"
   ]
  },
  {
   "cell_type": "markdown",
   "metadata": {},
   "source": [
    "<style>\n",
    "  p {\n",
    "    font-family: 'Segoe UI Light';\n",
    "    font-size: 20px;\n",
    "    text-align: center;\n",
    "  }\n",
    "</style>\n",
    "\n",
    "<div style=\"text-align: center;\">\n",
    "  Analítica Computacional para la Toma de Decisiones IIND-4130 <br>\n",
    "  Universidad de los Andes &copy; 2024 <br>\n",
    "  19 de noviembre de 2024 <br><br>\n",
    "  <strong>GRUPO 7:</strong> <br>\n",
    "  Laura Calderón - 202122045 <br>\n",
    "  Camilo Duque - 202024289<br>\n",
    "  Daniela Espinosa - 202022615<br>\n",
    "</div>\n"
   ]
  },
  {
   "cell_type": "markdown",
   "metadata": {},
   "source": [
    "## **Tarea 3**\n",
    "Exploración de Datos"
   ]
  },
  {
   "cell_type": "code",
   "execution_count": null,
   "metadata": {},
   "outputs": [],
   "source": []
  }
 ],
 "metadata": {
  "language_info": {
   "name": "python"
  }
 },
 "nbformat": 4,
 "nbformat_minor": 2
}
